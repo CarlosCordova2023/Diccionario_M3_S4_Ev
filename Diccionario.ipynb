{
  "nbformat": 4,
  "nbformat_minor": 0,
  "metadata": {
    "colab": {
      "provenance": [],
      "authorship_tag": "ABX9TyOHqcRNr+wGBuCge6rQpu8B",
      "include_colab_link": true
    },
    "kernelspec": {
      "name": "python3",
      "display_name": "Python 3"
    },
    "language_info": {
      "name": "python"
    }
  },
  "cells": [
    {
      "cell_type": "markdown",
      "metadata": {
        "id": "view-in-github",
        "colab_type": "text"
      },
      "source": [
        "<a href=\"https://colab.research.google.com/github/CarlosCordova2023/Diccionario_M3_S4_Ev/blob/main/Diccionario.ipynb\" target=\"_parent\"><img src=\"https://colab.research.google.com/assets/colab-badge.svg\" alt=\"Open In Colab\"/></a>"
      ]
    },
    {
      "cell_type": "code",
      "execution_count": 1,
      "metadata": {
        "colab": {
          "base_uri": "https://localhost:8080/"
        },
        "id": "Mjj-KlsIL4q1",
        "outputId": "591e4d85-7569-4188-fefc-9093ab438088"
      },
      "outputs": [
        {
          "output_type": "stream",
          "name": "stdout",
          "text": [
            "[{'nombre': 'Juan', 'apellido': 'Pérez', 'telefono': '123456789'}, {'nombre': 'María', 'apellido': 'González', 'telefono': '987654321'}, {'nombre': 'Carlos', 'apellido': 'Rodríguez', 'telefono': '555555555'}]\n"
          ]
        }
      ],
      "source": [
        "\n",
        "persona1 = {\n",
        "    \"nombre\": \"Juan\",\n",
        "    \"apellido\": \"Pérez\",\n",
        "    \"telefono\": \"123456789\"\n",
        "}\n",
        "\n",
        "persona2 = {\n",
        "    \"nombre\": \"María\",\n",
        "    \"apellido\": \"González\",\n",
        "    \"telefono\": \"987654321\"\n",
        "}\n",
        "\n",
        "persona3 = {\n",
        "    \"nombre\": \"Carlos\",\n",
        "    \"apellido\": \"Rodríguez\",\n",
        "    \"telefono\": \"555555555\"\n",
        "}\n",
        "\n",
        "\n",
        "lista_personas = [persona1, persona2, persona3]\n",
        "\n",
        "# Imprimir la lista en pantalla\n",
        "print(lista_personas)\n"
      ]
    }
  ]
}